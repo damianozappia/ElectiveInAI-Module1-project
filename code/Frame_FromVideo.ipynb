{
  "nbformat": 4,
  "nbformat_minor": 0,
  "metadata": {
    "colab": {
      "name": "Frame_FromVideo.ipynb",
      "provenance": [],
      "collapsed_sections": [],
      "toc_visible": true
    },
    "kernelspec": {
      "name": "python3",
      "display_name": "Python 3"
    }
  },
  "cells": [
    {
      "cell_type": "markdown",
      "metadata": {
        "id": "Q5CahIYqsY9M"
      },
      "source": [
        "# Frame from Video\n",
        "\n",
        "This code is developed to receive in input youtube videos, and extract from them specific images.\n",
        "\n",
        "To do this, pytube3 package is needed, and thus, installed.\n",
        "\n",
        "The extractions follows the following step:\n",
        "\n",
        "read a row from the csv file representing_\n",
        "\n",
        "\n",
        "* video id, \n",
        "* image timestamp\n",
        "* bounding box coordinates targeting an action inside the scene\n",
        "* name of the action.\n",
        "\n",
        "The video id is taken and used to compose the full url linking to the video. Then the video is dowloaded and saved into the notebook. \n",
        "From the downloaded video the specific image is extracted, and stored in the dataset folder, also a csv file is created representing the path of the image, the coordinates of the bounding box, and the action's name.\n",
        "\n",
        "The final csv file is ready to be used into the Keras Retinanet implementation."
      ]
    },
    {
      "cell_type": "code",
      "metadata": {
        "id": "QnWSxYbgnzKc",
        "outputId": "291e9c91-3184-4786-88b9-da1f41123810",
        "colab": {
          "base_uri": "https://localhost:8080/",
          "height": 121
        }
      },
      "source": [
        "# this is to install the package that allows to download videos\n",
        "!pip install pytube3"
      ],
      "execution_count": null,
      "outputs": [
        {
          "output_type": "stream",
          "text": [
            "Collecting pytube3\n",
            "  Downloading https://files.pythonhosted.org/packages/de/86/198092763646eac7abd2063192ab44ea44ad8fd6d6f3ad8586b38afcd52a/pytube3-9.6.4-py3-none-any.whl\n",
            "Requirement already satisfied: typing-extensions in /usr/local/lib/python3.6/dist-packages (from pytube3) (3.7.4.3)\n",
            "Installing collected packages: pytube3\n",
            "Successfully installed pytube3-9.6.4\n"
          ],
          "name": "stdout"
        }
      ]
    },
    {
      "cell_type": "code",
      "metadata": {
        "id": "oxosP-svQ1nu",
        "outputId": "08d23b19-82d9-4f37-db04-8e5f887c2104",
        "colab": {
          "base_uri": "https://localhost:8080/",
          "height": 34
        }
      },
      "source": [
        "from google.colab import drive\n",
        "drive.mount('/content/drive')"
      ],
      "execution_count": null,
      "outputs": [
        {
          "output_type": "stream",
          "text": [
            "Mounted at /content/drive\n"
          ],
          "name": "stdout"
        }
      ]
    },
    {
      "cell_type": "code",
      "metadata": {
        "id": "7qFd5uSYn-g9"
      },
      "source": [
        "import pytube\n",
        "import time\n",
        "import pandas as pd\n",
        "import requests\n",
        "\n",
        "from IPython.display import clear_output\n",
        "from pytube import YouTube\n",
        "# misc\n",
        "import csv\n",
        "import os\n",
        "import shutil\n",
        "import math\n",
        "import datetime\n",
        "# plots\n",
        "import matplotlib.pyplot as plt\n",
        "%matplotlib inline\n",
        "# image operation\n",
        "import cv2\n",
        "\n",
        "from google.colab.patches import cv2_imshow"
      ],
      "execution_count": null,
      "outputs": []
    },
    {
      "cell_type": "markdown",
      "metadata": {
        "id": "_FGzeYlebL5B"
      },
      "source": [
        "# Code to prepare the CSV file \n",
        "The following code opens the csv AVA dataset file, and extract all the relevant rows to be put into another file, from where I take each video and retrieve the key image "
      ]
    },
    {
      "cell_type": "markdown",
      "metadata": {
        "id": "4-rqjrdq8KYX"
      },
      "source": [
        "#The following code downloads and saves images from youtube videos"
      ]
    },
    {
      "cell_type": "code",
      "metadata": {
        "id": "kB3zJYVU8TIN"
      },
      "source": [
        "# reading csv file from where to read information to retrieve the data \n",
        "\n",
        "filename = 'AVA_annotations_longer.csv'\n",
        "count = 0 # this counts the lines read\n",
        "positive_count = 0 # this counts the lines added to the annotation definitive file\n",
        "track_video_name = \"\" # track the video name, if is the same of rìthe preceding row, is not downloaded\n",
        "response = \"\" # track the http response from the server  \n",
        "\n",
        "# the count in the file reading is used to start from the desired line\n",
        "data = pd.read_csv(filename, header=None, sep=',', skiprows=count)\n",
        "    \n",
        "for row in range(len(data)):\n",
        "  # for each row the information are printed and saved in the variables\n",
        "  print(\"fields of row  \", row, \" are: \\n\", data.loc[row], \"\\n\")\n",
        "\n",
        "  IMAGE_NAME = data.loc[row,0] + '.jpg'\n",
        "  VIDEO_URL = 'https://www.youtube.com/watch?v='+str(data.loc[row,0])\n",
        "  KEYFRAME_TIME = data.loc[row,1]\n",
        "  X_min = float(data.loc[row,2])\n",
        "  Y_min = float(data.loc[row,3])\n",
        "  X_MAX = float(data.loc[row,4])\n",
        "  Y_MAX = float(data.loc[row,5])\n",
        "  ACTION_ID = int(data.loc[row,6])\n",
        "  ACTION = \"\"\n",
        "\n",
        "  print(\"x min is: \", X_min)\n",
        "  print(\"y min is: \", Y_min)\n",
        "  print(\"X MAX is: \", X_MAX)\n",
        "  print(\"Y MAX is: \", Y_MAX, \"\\n\")\n",
        "\n",
        "  #---------------------------------------------------\n",
        "  # here I check if the action is present in the classes file, and I print it\n",
        "  with open('/content/drive/My Drive/Sapienza/Elective_Pirri/datasets/AVA_project/ava_actions.csv') as actions_file:\n",
        "      csv_read = csv.reader(actions_file, delimiter=',')\n",
        "      line_count = 0\n",
        "      for row in csv_read:\n",
        "        # is the row has all the informations, then I select it and save the required fields in a second csv file.\n",
        "          if (int(row[1]) == ACTION_ID):\n",
        "            ACTION = row[0]\n",
        "\n",
        "  print(\"action is: \", ACTION, \"\\n\")\n",
        "  # the try except structure is used in order to not stop the code if some video\n",
        "  # generates error being not available, or if the youtube server download limit is reached\n",
        "  try:\n",
        "    # if the video is already downloaded another http reques is not needed\n",
        "    if (VIDEO_URL != track_video_name):\n",
        "      video = YouTube(VIDEO_URL)\n",
        "\n",
        "      video.streams.filter(file_extension = \"mp4\").all()\n",
        "\n",
        "      stream = video.streams.get_highest_resolution()\n",
        "      stream.download(filename='video')\n",
        "\n",
        "      track_video_name = VIDEO_URL\n",
        "\n",
        "    else:\n",
        "      print(\"video was already present \\n\")\n",
        "      \n",
        "\n",
        "    positive_count = positive_count + 1 #video was ok so I increment the extracted lines counter\n",
        "\n",
        "    # the timestamp is computed in milliseconds, as required from the cap.set() function\n",
        "    TIME = float(KEYFRAME_TIME) * 1000\n",
        "    print(\"time is :\", TIME, \"\\n\")\n",
        "\n",
        "    path = '/content/drive/My Drive/dataset'\n",
        "    cap = cv2.VideoCapture('video.mp4')\n",
        "    cap.set(cv2.CAP_PROP_POS_MSEC,TIME)      # Go to the specified milli sec. position\n",
        "    ret,frame = cap.read()                   # Retrieves the frame at the specified second\n",
        "    cv2.imwrite(os.path.join(path , IMAGE_NAME), frame)\n",
        "    #cv2.imwrite(IMAGE_NAME, frame)          # Saves the frame as an image\n",
        "    #cv2_imshow(frame)           # Displays the frame on screen\n",
        "    cv2.waitKey()                            # Waits For Input\n",
        "    # dimension of the image is extracted and used to compute \n",
        "    # the right coordinates of the bounding box\n",
        "    dimensions = frame.shape\n",
        "\n",
        "    print(dimensions)\n",
        "\n",
        "    X_min = X_min * dimensions[1]\n",
        "    X_MAX = X_MAX * dimensions[1]\n",
        "    Y_min = Y_min * dimensions[0]\n",
        "    Y_MAX = Y_MAX * dimensions[0]\n",
        "\n",
        "    X_min = int(round(X_min, 0))\n",
        "    X_MAX = int(round(X_MAX, 0))\n",
        "    Y_min = int(round(Y_min, 0))\n",
        "    Y_MAX = int(round(Y_MAX, 0))\n",
        "\n",
        "    # represents the top left corner of rectangle \n",
        "    start_point = (X_min, Y_min) \n",
        "    # represents the bottom right corner of rectangle \n",
        "    end_point = (X_MAX, Y_MAX) \n",
        "\n",
        "    # Blue color in BGR \n",
        "    color = (255, 0, 0) \n",
        "    # Line thickness of 2 px \n",
        "    thickness = 2\n",
        "\n",
        "    # Draw a rectangle with blue line borders of thickness of 2 px \n",
        "    image = cv2.rectangle(frame, start_point, end_point, color, thickness) \n",
        "\n",
        "    cv2_imshow(image)           # Displays the frame on screen\n",
        "    cv2.waitKey()                            # Waits For Input\n",
        "\n",
        "    dimensions = frame.shape\n",
        "\n",
        "    print(dimensions)\n",
        "\n",
        "    # printing the coordinates of the bounding box\n",
        "    print(\"x min is: \", X_min, \" and Y min is: \", Y_min, \"\\n\")\n",
        "    print(\"X MAX is: \", X_MAX, \"and Y MAX is: \", Y_MAX)\n",
        "\n",
        "    with open('/content/drive/My Drive/AVA_annotations.csv', 'a+') as final_annotator:\n",
        "      final_annotator = csv.writer(final_annotator, delimiter=',')\n",
        "      #line = [IMAGE_NAME, X_min, Y_min, X_MAX, Y_MAX, ACTION_ID]\n",
        "      final_annotator.writerow(['dataset/'+IMAGE_NAME, X_min, Y_min, X_MAX, Y_MAX, ACTION])\n",
        "\n",
        "\n",
        "\n",
        "  except:\n",
        "    response = requests.get(VIDEO_URL)\n",
        "    print(\"response is: \", response)\n",
        "\n",
        "    print(\"error on this video, skip to the next \\n\")\n",
        "\n",
        "  #sleep introduced in order to avoid problems with too many requests\n",
        "  time.sleep(3)\n",
        "\n",
        "  # here I write down the last row of the CSV that has been read\n",
        "  f = open(\"/content/drive/My Drive/track_of_work.txt\", \"w\")\n",
        "  writing = \"last read line: \"+ str(count)+ \"\\n\" # Counter of last working line from the file\n",
        "  f.write(writing)\n",
        "  f.close()\n",
        "\n",
        "  # ------------------------------------\n",
        "\n",
        "  count = count+1\n",
        "\n",
        "  # I clear the terminal after some iterations concluded\n",
        "  if(count % 3 == 0):\n",
        "    clear_output()\n",
        "\n",
        "  # if the server blocked the youtube access due to \"too many requests\" I stop the loop\n",
        "  if (\"429\" in str(response)):\n",
        "    break\n",
        "  # --------------------\n",
        "\n",
        "  # if I end to collect data the loop stops\n",
        "  if (count > 1155):\n",
        "    break\n",
        "\n",
        "print(\"images extraction ended!!! \\n\")"
      ],
      "execution_count": null,
      "outputs": []
    }
  ]
}